{
  "nbformat": 4,
  "nbformat_minor": 0,
  "metadata": {
    "colab": {
      "name": "self-driving",
      "provenance": [],
      "collapsed_sections": []
    },
    "kernelspec": {
      "name": "python3",
      "display_name": "Python 3"
    },
    "accelerator": "GPU"
  },
  "cells": [
    {
      "cell_type": "code",
      "metadata": {
        "id": "n-B9xLDolaDo",
        "colab_type": "code",
        "colab": {
          "base_uri": "https://localhost:8080/",
          "height": 34
        },
        "outputId": "81c3b109-115b-4fcd-f1cd-13a22b236794"
      },
      "source": [
        "from google.colab import drive\n",
        "drive.mount('/content/drive')"
      ],
      "execution_count": 61,
      "outputs": [
        {
          "output_type": "stream",
          "text": [
            "Mounted at /content/drive\n"
          ],
          "name": "stdout"
        }
      ]
    },
    {
      "cell_type": "code",
      "metadata": {
        "id": "IpAchLF8mHeH",
        "colab_type": "code",
        "colab": {}
      },
      "source": [
        "# import the required libraries\n",
        "from __future__ import absolute_import, division, print_function, unicode_literals\n",
        "from tensorflow.keras import datasets, layers, models\n",
        "from google.colab.patches import cv2_imshow\n",
        "from collections import Counter\n",
        "import matplotlib.pyplot as plt\n",
        "import tensorflow as tf\n",
        "import numpy as np\n",
        "import sys\n",
        "import os\n",
        "import cv2"
      ],
      "execution_count": 0,
      "outputs": []
    },
    {
      "cell_type": "code",
      "metadata": {
        "id": "fN9yzHrdxUBx",
        "colab_type": "code",
        "colab": {}
      },
      "source": [
        "# define variables\n",
        "EPOCHS = 10\n",
        "LEARNING_RATE = 0.001"
      ],
      "execution_count": 0,
      "outputs": []
    },
    {
      "cell_type": "code",
      "metadata": {
        "id": "SN2_WMYsmDaz",
        "colab_type": "code",
        "colab": {}
      },
      "source": [
        "def get_data():\n",
        "\n",
        "    data = []\n",
        "    parts = ['part1', 'part2']\n",
        "\n",
        "    for part in parts:\n",
        "\n",
        "        print(f'Fetching data from {part}')\n",
        "\n",
        "        files = os.listdir(f'drive/My Drive/nfsmw/{part}/')\n",
        "        for count, f in enumerate(files):\n",
        "            \n",
        "            if count % 50 == 0:\n",
        "                print(f'Fetched {count} files')\n",
        "            \n",
        "            image = cv2.imread(f'/content/drive/My Drive/nfsmw/{part}/{f}')\n",
        "            image = cv2.resize(image, None, fx=0.5, fy=0.5)\n",
        "            label = f.split('-')[1].split('.')[0]\n",
        "            \n",
        "            if label == 'straight':\n",
        "                label = 0\n",
        "            elif label == 'left':\n",
        "                label = 1\n",
        "            elif label == 'right':\n",
        "                label = 2\n",
        "            \n",
        "            data.append( [image, label] )\n",
        "    \n",
        "    return np.array(data)"
      ],
      "execution_count": 0,
      "outputs": []
    },
    {
      "cell_type": "code",
      "metadata": {
        "id": "42QSIRZrjZXM",
        "colab_type": "code",
        "colab": {
          "base_uri": "https://localhost:8080/",
          "height": 221
        },
        "outputId": "0c3758eb-8b25-41ff-8ba5-daa23bf9114e"
      },
      "source": [
        "# prepare the data\n",
        "\n",
        "# fetch the data\n",
        "data = get_data()\n",
        "\n",
        "# shuffle the data to create some randomness\n",
        "np.random.shuffle(data)\n",
        "\n",
        "# normalize the images\n",
        "images = np.array( [d[0] for d in data] )\n",
        "images = images / 255\n",
        "\n",
        "# get the labels for the images\n",
        "labels = np.array( [d[1] for d in data] )\n",
        "\n",
        "# divide the data into training and testing data\n",
        "# keep the ratio at 70% to 30%\n",
        "div = int( len(labels) * 0.7 )\n",
        "train_images = images[:div]\n",
        "train_labels = labels[:div]\n",
        "test_images = images[div:]\n",
        "test_labels = labels[div:]"
      ],
      "execution_count": 67,
      "outputs": [
        {
          "output_type": "stream",
          "text": [
            "Fetching data from part1\n",
            "Fetched 0 files\n",
            "Fetched 50 files\n",
            "Fetched 100 files\n",
            "Fetched 150 files\n",
            "Fetched 200 files\n",
            "Fetching data from part2\n",
            "Fetched 0 files\n",
            "Fetched 50 files\n",
            "Fetched 100 files\n",
            "Fetched 150 files\n",
            "Fetched 200 files\n"
          ],
          "name": "stdout"
        }
      ]
    },
    {
      "cell_type": "code",
      "metadata": {
        "id": "tbTJwU5ysAmc",
        "colab_type": "code",
        "colab": {
          "base_uri": "https://localhost:8080/",
          "height": 802
        },
        "outputId": "02dd9585-6401-4064-c750-6463276b6a03"
      },
      "source": [
        "# get the input shape\n",
        "input_shape = train_images[0].shape\n",
        "\n",
        "# create a convolutional neural network base\n",
        "model = models.Sequential(name='sdc_cnn_model')\n",
        "\n",
        "model.add(layers.Conv2D(32, (3, 3), activation='relu', input_shape=input_shape, name='first_conv2d'))\n",
        "model.add(layers.MaxPooling2D((3, 3), name='first_maxpooling'))\n",
        "model.add(layers.Conv2D(64, (3, 3), activation='relu', name='second_conv2d'))\n",
        "model.add(layers.MaxPooling2D((3, 3), name='second_maxpooling'))\n",
        "model.add(layers.Conv2D(64, (3, 3), activation='relu', name='third_conv2d'))\n",
        "\n",
        "# add dense layers on the top\n",
        "model.add(layers.Flatten(name='flatten_layer'))\n",
        "model.add(layers.Dense(64, activation='relu', name='relu_layer'))\n",
        "model.add(layers.Dense(3, activation='softmax', name='softmax_layer'))\n",
        "\n",
        "# get the model's summary to validate the model architecture\n",
        "model.summary()\n",
        "\n",
        "# compile and train the model\n",
        "model.compile(optimizer='adam',\n",
        "              loss='sparse_categorical_crossentropy',\n",
        "              metrics=['accuracy'])\n",
        "\n",
        "history = model.fit(train_images, train_labels, epochs=EPOCHS, \n",
        "                    validation_data=(test_images, test_labels))\n",
        "\n",
        "# save the model\n",
        "model.save('sdc-cnn-model.h5')"
      ],
      "execution_count": 68,
      "outputs": [
        {
          "output_type": "stream",
          "text": [
            "Model: \"sdc_cnn_model\"\n",
            "_________________________________________________________________\n",
            "Layer (type)                 Output Shape              Param #   \n",
            "=================================================================\n",
            "first_conv2d (Conv2D)        (None, 298, 398, 32)      896       \n",
            "_________________________________________________________________\n",
            "first_maxpooling (MaxPooling (None, 99, 132, 32)       0         \n",
            "_________________________________________________________________\n",
            "second_conv2d (Conv2D)       (None, 97, 130, 64)       18496     \n",
            "_________________________________________________________________\n",
            "second_maxpooling (MaxPoolin (None, 32, 43, 64)        0         \n",
            "_________________________________________________________________\n",
            "third_conv2d (Conv2D)        (None, 30, 41, 64)        36928     \n",
            "_________________________________________________________________\n",
            "flatten_layer (Flatten)      (None, 78720)             0         \n",
            "_________________________________________________________________\n",
            "relu_layer (Dense)           (None, 64)                5038144   \n",
            "_________________________________________________________________\n",
            "softmax_layer (Dense)        (None, 3)                 195       \n",
            "=================================================================\n",
            "Total params: 5,094,659\n",
            "Trainable params: 5,094,659\n",
            "Non-trainable params: 0\n",
            "_________________________________________________________________\n",
            "Train on 306 samples, validate on 132 samples\n",
            "Epoch 1/10\n",
            "306/306 [==============================] - 3s 10ms/sample - loss: 1.2087 - acc: 0.4183 - val_loss: 0.9273 - val_acc: 0.4621\n",
            "Epoch 2/10\n",
            "306/306 [==============================] - 2s 7ms/sample - loss: 0.6494 - acc: 0.7320 - val_loss: 0.3155 - val_acc: 0.9167\n",
            "Epoch 3/10\n",
            "306/306 [==============================] - 2s 7ms/sample - loss: 0.2166 - acc: 0.9281 - val_loss: 0.1725 - val_acc: 0.9470\n",
            "Epoch 4/10\n",
            "306/306 [==============================] - 2s 7ms/sample - loss: 0.1164 - acc: 0.9641 - val_loss: 0.2004 - val_acc: 0.9015\n",
            "Epoch 5/10\n",
            "306/306 [==============================] - 2s 7ms/sample - loss: 0.0740 - acc: 0.9771 - val_loss: 0.2608 - val_acc: 0.8864\n",
            "Epoch 6/10\n",
            "306/306 [==============================] - 2s 7ms/sample - loss: 0.0869 - acc: 0.9739 - val_loss: 0.1283 - val_acc: 0.9470\n",
            "Epoch 7/10\n",
            "306/306 [==============================] - 2s 7ms/sample - loss: 0.0531 - acc: 0.9804 - val_loss: 0.0486 - val_acc: 0.9848\n",
            "Epoch 8/10\n",
            "306/306 [==============================] - 2s 7ms/sample - loss: 0.0450 - acc: 0.9804 - val_loss: 0.0400 - val_acc: 0.9848\n",
            "Epoch 9/10\n",
            "306/306 [==============================] - 2s 7ms/sample - loss: 0.0376 - acc: 0.9935 - val_loss: 0.0767 - val_acc: 0.9697\n",
            "Epoch 10/10\n",
            "306/306 [==============================] - 2s 7ms/sample - loss: 0.0281 - acc: 0.9902 - val_loss: 0.0483 - val_acc: 0.9773\n"
          ],
          "name": "stdout"
        }
      ]
    },
    {
      "cell_type": "code",
      "metadata": {
        "id": "GVgv7AeOu7EB",
        "colab_type": "code",
        "colab": {
          "base_uri": "https://localhost:8080/",
          "height": 317
        },
        "outputId": "28575ff8-9386-4d7f-993f-5f84eb55cf83"
      },
      "source": [
        "# evaluate the model\n",
        "plt.plot( history.history['acc'], label='accuracy' )\n",
        "plt.plot( history.history['val_acc'], label = 'val_accuracy' )\n",
        "plt.xlabel('Epoch')\n",
        "plt.ylabel('Accuracy')\n",
        "plt.ylim( [0.5, 1] )\n",
        "plt.legend(loc='lower right')\n",
        "\n",
        "test_loss, test_acc = model.evaluate(test_images, test_labels, verbose=2)\n",
        "\n",
        "print(f'Accuracy: {test_acc}')\n",
        "\n",
        "plt.show()"
      ],
      "execution_count": 69,
      "outputs": [
        {
          "output_type": "stream",
          "text": [
            "132/132 - 0s - loss: 0.0483 - acc: 0.9773\n",
            "Accuracy: 0.9772727489471436\n"
          ],
          "name": "stdout"
        },
        {
          "output_type": "display_data",
          "data": {
            "image/png": "[encoded data removed]",
            "text/plain": [
              "<Figure size 432x288 with 1 Axes>"
            ]
          },
          "metadata": {
            "tags": []
          }
        }
      ]
    }
  ]
}